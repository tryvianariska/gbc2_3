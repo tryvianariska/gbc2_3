{
 "cells": [
  {
   "cell_type": "code",
   "execution_count": 1,
   "metadata": {},
   "outputs": [],
   "source": [
    "import json\n",
    "\n",
    "name = \"Tryviana Yusriska Sari\"\n",
    "address = \"Jalan Baitis Salmah Sawah Baru - Tangerang Selatan\"\n",
    "hobbies = [\"membaca\", \"mendengarkan musik\", \"menonton drama\"]\n",
    "is_married = False\n",
    "highSchool = \"SMAN 3 Pamekasan\"\n",
    "university = \"Universitas Indonesia\"\n",
    "\n",
    "#create object school\n",
    "class school(object):\n",
    "    pass\n",
    "school = school()\n",
    "school.highSchool = highSchool\n",
    "school.university = university\n",
    "\n",
    "#create object Skill\n",
    "class Skill(object):\n",
    "     def __init__(self, name):\n",
    "        self.name = name\n",
    "skill = []\n",
    "skill.append(Skill(\"Java/android dev\"))\n",
    "skill.append(Skill(\"Python\"))\n",
    "skill.append(Skill(\"R\"))"
   ]
  },
  {
   "cell_type": "code",
   "execution_count": 2,
   "metadata": {},
   "outputs": [
    {
     "data": {
      "text/plain": [
       "'{\"address\": \"Jalan Baitis Salmah Sawah Baru - Tangerang Selatan\", \"hobbies\": [\"membaca\", \"mendengarkan musik\", \"menonton drama\"], \"is_married\": false, \"name\": \"Tryviana Yusriska Sari\", \"school\": {\"highSchool\": \"SMAN 3 Pamekasan\", \"university\": \"Universitas Indonesia\"}, \"skills\": [\"Java/android dev\", \"Python\", \"R\"]}'"
      ]
     },
     "execution_count": 2,
     "metadata": {},
     "output_type": "execute_result"
    }
   ],
   "source": [
    "def getBiodata():\n",
    "    biodata = {}\n",
    "    biodata['name'] = name\n",
    "    biodata['address'] = address\n",
    "    biodata['hobbies'] = hobbies\n",
    "    biodata['is_married'] = is_married\n",
    "    biodata['school'] = school.__dict__\n",
    "    biodata['skills'] = [o.name for o in skill]\n",
    "    return json.dumps(biodata,sort_keys=True)\n",
    "\n",
    "getBiodata()"
   ]
  },
  {
   "cell_type": "code",
   "execution_count": null,
   "metadata": {},
   "outputs": [],
   "source": []
  }
 ],
 "metadata": {
  "kernelspec": {
   "display_name": "Python 3",
   "language": "python",
   "name": "python3"
  },
  "language_info": {
   "codemirror_mode": {
    "name": "ipython",
    "version": 3
   },
   "file_extension": ".py",
   "mimetype": "text/x-python",
   "name": "python",
   "nbconvert_exporter": "python",
   "pygments_lexer": "ipython3",
   "version": "3.7.0"
  }
 },
 "nbformat": 4,
 "nbformat_minor": 2
}
