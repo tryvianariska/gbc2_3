{
 "cells": [
  {
   "cell_type": "code",
   "execution_count": 1,
   "metadata": {},
   "outputs": [],
   "source": [
    "abjad =\"abcdefghijklmnopqrstuvwxyz\"\n",
    "lenabjad = len(abjad)\n",
    "\n",
    "def print_abc(lebar, panjang):\n",
    "    n = lebar* panjang\n",
    "    line = \"\"\n",
    "    for x in range(n):\n",
    "        if x!= 0 and x%lebar == 0:\n",
    "            print('\\n')\n",
    "        print(abjad[x%lenabjad], end =\" \")\n",
    "        "
   ]
  },
  {
   "cell_type": "code",
   "execution_count": 2,
   "metadata": {},
   "outputs": [
    {
     "name": "stdout",
     "output_type": "stream",
     "text": [
      "a b c \n",
      "\n",
      "d e f \n",
      "\n",
      "g h i \n",
      "\n",
      "j k l "
     ]
    }
   ],
   "source": [
    "print_abc(3,4)"
   ]
  },
  {
   "cell_type": "code",
   "execution_count": null,
   "metadata": {},
   "outputs": [],
   "source": []
  }
 ],
 "metadata": {
  "kernelspec": {
   "display_name": "Python 3",
   "language": "python",
   "name": "python3"
  },
  "language_info": {
   "codemirror_mode": {
    "name": "ipython",
    "version": 3
   },
   "file_extension": ".py",
   "mimetype": "text/x-python",
   "name": "python",
   "nbconvert_exporter": "python",
   "pygments_lexer": "ipython3",
   "version": "3.7.0"
  }
 },
 "nbformat": 4,
 "nbformat_minor": 2
}
