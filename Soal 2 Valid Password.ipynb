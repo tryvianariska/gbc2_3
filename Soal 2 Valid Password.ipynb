{
 "cells": [
  {
   "cell_type": "code",
   "execution_count": 1,
   "metadata": {},
   "outputs": [],
   "source": [
    "def is_password_valid(password):\n",
    "    upper = lower = number = False\n",
    "    if len(password) == 8 and (not password.isalnum()):\n",
    "        for x in password:\n",
    "            if x.isupper():\n",
    "                upper = True\n",
    "            elif x.islower():\n",
    "                lower = True\n",
    "            elif x.isdigit():\n",
    "                number = True\n",
    "        return upper and lower and number\n",
    "    else:\n",
    "        return False\n",
    "    \n",
    "def is_username_valid(username):\n",
    "    return len(username) == 8 and username.lower() == username and '_' in username"
   ]
  },
  {
   "cell_type": "code",
   "execution_count": 2,
   "metadata": {},
   "outputs": [
    {
     "name": "stdout",
     "output_type": "stream",
     "text": [
      "masukkan username:solo_abc\n",
      "username valid\n",
      "masukkan password:wsxE99##\n",
      "password valid\n"
     ]
    }
   ],
   "source": [
    "un = input(\"masukkan username:\")\n",
    "if is_username_valid(un):\n",
    "    print(\"username valid\")\n",
    "else:\n",
    "    print(\"username tidak valid\")\n",
    "pw = input(\"masukkan password:\")\n",
    "if is_password_valid(pw):\n",
    "    print(\"password valid\")\n",
    "else:\n",
    "    print(\"password tidak valid\")"
   ]
  },
  {
   "cell_type": "code",
   "execution_count": 3,
   "metadata": {},
   "outputs": [
    {
     "name": "stdout",
     "output_type": "stream",
     "text": [
      "True\n",
      "False\n",
      "True\n",
      "True\n",
      "True\n",
      "True\n"
     ]
    }
   ],
   "source": [
    "print(is_username_valid('solo_abc'))\n",
    "print(is_username_valid('wsxe99##'))\n",
    "print(is_username_valid('_jakarta'))\n",
    "print(is_username_valid('soetami_'))\n",
    "print(is_password_valid('wsxE99##'))\n",
    "print(is_password_valid('sw1p3^UP'))"
   ]
  },
  {
   "cell_type": "code",
   "execution_count": null,
   "metadata": {},
   "outputs": [],
   "source": []
  }
 ],
 "metadata": {
  "kernelspec": {
   "display_name": "Python 3",
   "language": "python",
   "name": "python3"
  },
  "language_info": {
   "codemirror_mode": {
    "name": "ipython",
    "version": 3
   },
   "file_extension": ".py",
   "mimetype": "text/x-python",
   "name": "python",
   "nbconvert_exporter": "python",
   "pygments_lexer": "ipython3",
   "version": "3.7.0"
  }
 },
 "nbformat": 4,
 "nbformat_minor": 2
}
