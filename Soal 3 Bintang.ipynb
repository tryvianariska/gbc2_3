{
 "cells": [
  {
   "cell_type": "code",
   "execution_count": 1,
   "metadata": {},
   "outputs": [],
   "source": [
    "def draw_kotak(n):\n",
    "    ganjil = \"\"\n",
    "    genap = \"\"\n",
    "    for x in range(n):\n",
    "        if x%2 == 0:\n",
    "            ganjil += '*'\n",
    "            if x == 0:\n",
    "                genap += '\\t'\n",
    "            else:\n",
    "                genap += '\\t\\t'\n",
    "        else:\n",
    "            ganjil += '\\t\\t'\n",
    "            genap += '*'\n",
    "\n",
    "    for x in range(n):\n",
    "        if x%2 == 0:\n",
    "            print(ganjil +'\\n')\n",
    "        else:\n",
    "            print(genap+ '\\n')\n",
    "            "
   ]
  },
  {
   "cell_type": "code",
   "execution_count": 2,
   "metadata": {},
   "outputs": [
    {
     "name": "stdout",
     "output_type": "stream",
     "text": [
      "*\t\t*\t\t*\n",
      "\n",
      "\t*\t\t*\t\t\n",
      "\n",
      "*\t\t*\t\t*\n",
      "\n",
      "\t*\t\t*\t\t\n",
      "\n",
      "*\t\t*\t\t*\n",
      "\n"
     ]
    }
   ],
   "source": [
    "draw_kotak(5)"
   ]
  },
  {
   "cell_type": "code",
   "execution_count": 3,
   "metadata": {},
   "outputs": [
    {
     "name": "stdout",
     "output_type": "stream",
     "text": [
      "*\t\t*\t\t*\t\t*\n",
      "\n",
      "\t*\t\t*\t\t*\t\t\n",
      "\n",
      "*\t\t*\t\t*\t\t*\n",
      "\n",
      "\t*\t\t*\t\t*\t\t\n",
      "\n",
      "*\t\t*\t\t*\t\t*\n",
      "\n",
      "\t*\t\t*\t\t*\t\t\n",
      "\n",
      "*\t\t*\t\t*\t\t*\n",
      "\n"
     ]
    }
   ],
   "source": [
    "draw_kotak(7)"
   ]
  },
  {
   "cell_type": "code",
   "execution_count": null,
   "metadata": {},
   "outputs": [],
   "source": []
  }
 ],
 "metadata": {
  "kernelspec": {
   "display_name": "Python 3",
   "language": "python",
   "name": "python3"
  },
  "language_info": {
   "codemirror_mode": {
    "name": "ipython",
    "version": 3
   },
   "file_extension": ".py",
   "mimetype": "text/x-python",
   "name": "python",
   "nbconvert_exporter": "python",
   "pygments_lexer": "ipython3",
   "version": "3.7.0"
  }
 },
 "nbformat": 4,
 "nbformat_minor": 2
}
